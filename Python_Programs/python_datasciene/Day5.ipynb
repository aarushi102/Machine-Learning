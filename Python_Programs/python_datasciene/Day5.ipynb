{
 "cells": [
  {
   "cell_type": "code",
   "execution_count": 1,
   "metadata": {},
   "outputs": [
    {
     "name": "stdout",
     "output_type": "stream",
     "text": [
      "Hi World\n"
     ]
    }
   ],
   "source": [
    "def hello():\n",
    "    print('Hi World')\n",
    "hello()  "
   ]
  },
  {
   "cell_type": "code",
   "execution_count": 2,
   "metadata": {},
   "outputs": [
    {
     "name": "stdout",
     "output_type": "stream",
     "text": [
      "100\n"
     ]
    }
   ],
   "source": [
    "def addition(n1,n2):\n",
    "    print(n1+n2)\n",
    "addition(50,50)"
   ]
  },
  {
   "cell_type": "code",
   "execution_count": 3,
   "metadata": {},
   "outputs": [
    {
     "name": "stdout",
     "output_type": "stream",
     "text": [
      "Square: 100\n"
     ]
    }
   ],
   "source": [
    "def find_square(num):\n",
    "    result = num * num\n",
    "    return result\n",
    "#calling function\n",
    "square = find_square(10)\n",
    "\n",
    "print('Square:',square)"
   ]
  },
  {
   "cell_type": "code",
   "execution_count": 4,
   "metadata": {},
   "outputs": [
    {
     "name": "stdout",
     "output_type": "stream",
     "text": [
      "Sum: 5\n",
      "Sum: 150\n"
     ]
    }
   ],
   "source": [
    "def add_numbers( a = 70,  b = 80):\n",
    "    sum = a + b\n",
    "    print('Sum:', sum)\n",
    "\n",
    "# two arguments\n",
    "add_numbers(2, 3)\n",
    "\n",
    "#No arguments\n",
    "add_numbers()"
   ]
  },
  {
   "cell_type": "code",
   "execution_count": 5,
   "metadata": {},
   "outputs": [
    {
     "name": "stdout",
     "output_type": "stream",
     "text": [
      "First Name: Loga\n",
      "Last Name: Aswin\n"
     ]
    }
   ],
   "source": [
    "def show(first_name, last_name):\n",
    "    print('First Name:', first_name)\n",
    "    print('Last Name:', last_name)\n",
    "\n",
    "show(last_name = 'Aswin', first_name = 'Loga')"
   ]
  },
  {
   "cell_type": "code",
   "execution_count": 6,
   "metadata": {},
   "outputs": [
    {
     "name": "stdout",
     "output_type": "stream",
     "text": [
      "Aswin 20\n",
      "20 Aswin\n"
     ]
    }
   ],
   "source": [
    "def prints(age,name):\n",
    "    print(age,name)\n",
    "\n",
    "prints('Aswin',20)\n",
    "prints(20,'Aswin')"
   ]
  },
  {
   "cell_type": "code",
   "execution_count": 7,
   "metadata": {},
   "outputs": [
    {
     "name": "stdout",
     "output_type": "stream",
     "text": [
      "Sum =  6\n"
     ]
    }
   ],
   "source": [
    "def find_sum(*numbers):\n",
    "    result = 0\n",
    "    for num in numbers:\n",
    "        result = result + num\n",
    "    print(\"Sum = \", result)\n",
    "\n",
    "find_sum(1, 2, 3)"
   ]
  },
  {
   "cell_type": "code",
   "execution_count": 8,
   "metadata": {},
   "outputs": [
    {
     "name": "stdout",
     "output_type": "stream",
     "text": [
      "The factorial is 120\n"
     ]
    }
   ],
   "source": [
    "def factorial(x):\n",
    "    if x == 1:\n",
    "        return 1\n",
    "    else:\n",
    "        return (x * factorial(x-1))\n",
    "\n",
    "x = int(input(\"Enter the number:\"))\n",
    "print(\"The factorial is\", factorial(x))"
   ]
  },
  {
   "cell_type": "code",
   "execution_count": 9,
   "metadata": {},
   "outputs": [],
   "source": [
    "def row(n):\n",
    "    if n < 1:\n",
    "        return\n",
    "    print(\"*\", end=\" \")\n",
    "    row(n - 1)\n",
    "\n",
    "def pattern(n):\n",
    "    if n < 1:\n",
    "        return\n",
    "    row(n)\n",
    "    print(\"\")\n",
    "    pattern(n - 1)\n"
   ]
  },
  {
   "cell_type": "code",
   "execution_count": null,
   "metadata": {},
   "outputs": [],
   "source": []
  }
 ],
 "metadata": {
  "kernelspec": {
   "display_name": "Python 3",
   "language": "python",
   "name": "python3"
  },
  "language_info": {
   "codemirror_mode": {
    "name": "ipython",
    "version": 3
   },
   "file_extension": ".py",
   "mimetype": "text/x-python",
   "name": "python",
   "nbconvert_exporter": "python",
   "pygments_lexer": "ipython3",
   "version": "3.9.4"
  }
 },
 "nbformat": 4,
 "nbformat_minor": 2
}
