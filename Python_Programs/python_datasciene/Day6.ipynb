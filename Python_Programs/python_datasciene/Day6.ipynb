{
 "cells": [
  {
   "cell_type": "code",
   "execution_count": 2,
   "metadata": {},
   "outputs": [
    {
     "name": "stdout",
     "output_type": "stream",
     "text": [
      "Day2\n"
     ]
    }
   ],
   "source": [
    "print(\"Day2\")\n",
    "import numpy as np"
   ]
  },
  {
   "cell_type": "code",
   "execution_count": 3,
   "metadata": {},
   "outputs": [
    {
     "name": "stdout",
     "output_type": "stream",
     "text": [
      "[  1   2 100   3   4   5]\n"
     ]
    }
   ],
   "source": [
    "a = np.array([1,2,3,4,5])\n",
    "a = np.insert(a, 2, 100)\n",
    "print(a)"
   ]
  },
  {
   "cell_type": "code",
   "execution_count": 4,
   "metadata": {},
   "outputs": [
    {
     "name": "stdout",
     "output_type": "stream",
     "text": [
      "[1 2 3 4]\n",
      "[5 6 7 8]\n"
     ]
    }
   ],
   "source": [
    "arr =np.array([[1,2,3,4],[5,6,7,8]])\n",
    "for x in arr:\n",
    "    print(x)"
   ]
  },
  {
   "cell_type": "code",
   "execution_count": 5,
   "metadata": {},
   "outputs": [
    {
     "name": "stdout",
     "output_type": "stream",
     "text": [
      "[1 2 3 4 5 6]\n"
     ]
    }
   ],
   "source": [
    "arr1 = np.array([1,2,3])\n",
    "arr2 = np.array([4,5,6])\n",
    "\n",
    "arr = np.concatenate((arr1,arr2))\n",
    "\n",
    "print(arr)"
   ]
  },
  {
   "cell_type": "code",
   "execution_count": 6,
   "metadata": {},
   "outputs": [
    {
     "name": "stdout",
     "output_type": "stream",
     "text": [
      "['apple' 'banana' 'cherry' 'dragon-fruit']\n"
     ]
    }
   ],
   "source": [
    "arr3 = np.array(['apple','cherry','banana','dragon-fruit'])\n",
    "\n",
    "x = np.sort(arr3)\n",
    "print(x)"
   ]
  },
  {
   "cell_type": "code",
   "execution_count": 8,
   "metadata": {},
   "outputs": [
    {
     "name": "stdout",
     "output_type": "stream",
     "text": [
      "[[-3.698363    2.30225611 -0.181661  ]\n",
      " [ 0.13050879  1.11926628  2.57199537]]\n",
      "-------\n",
      "[7 9 5 9 5 3 5 4 5 8]\n",
      "-------\n",
      "[2 0 4 1 5 1 6 3 1 0]\n",
      "-------\n",
      "[[0.01752293 0.47208056 0.58660191]\n",
      " [0.59971715 0.54385499 0.67596736]]\n",
      "-------\n",
      "[[ 3.52808501 -0.14007722  5.90163731]\n",
      " [ 2.99734251  0.77366986  3.75476495]]\n"
     ]
    }
   ],
   "source": [
    "from numpy import random\n",
    "\n",
    "y1 = random.normal(loc=1, scale=2, size=(2, 3))\n",
    "y2 = random.binomial(n=10, p=0.5, size=10)\n",
    "y3 = random.poisson(lam=2, size=10)\n",
    "y4 = random.uniform(size=(2, 3))\n",
    "y5 = random.logistic(loc=1, scale=2, size=(2, 3))\n",
    "\n",
    "print(y1)\n",
    "print(\"-------\")\n",
    "print(y2)\n",
    "print(\"-------\")\n",
    "print(y3)\n",
    "print(\"-------\")\n",
    "print(y4)\n",
    "print(\"-------\")\n",
    "print(y5)"
   ]
  },
  {
   "cell_type": "code",
   "execution_count": null,
   "metadata": {},
   "outputs": [],
   "source": []
  }
 ],
 "metadata": {
  "kernelspec": {
   "display_name": "Python 3",
   "language": "python",
   "name": "python3"
  },
  "language_info": {
   "codemirror_mode": {
    "name": "ipython",
    "version": 3
   },
   "file_extension": ".py",
   "mimetype": "text/x-python",
   "name": "python",
   "nbconvert_exporter": "python",
   "pygments_lexer": "ipython3",
   "version": "3.9.4"
  }
 },
 "nbformat": 4,
 "nbformat_minor": 2
}
