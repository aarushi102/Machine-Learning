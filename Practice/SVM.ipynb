{
 "cells": [
  {
   "cell_type": "code",
   "execution_count": 1,
   "metadata": {
    "executionInfo": {
     "elapsed": 1294,
     "status": "ok",
     "timestamp": 1672630972224,
     "user": {
      "displayName": "ANANYA GHOSH",
      "userId": "07636421272032694955"
     },
     "user_tz": -330
    },
    "id": "5xwrt1BSIkUA"
   },
   "outputs": [],
   "source": [
    "# SVM Classification\n",
    "import pandas as pd\n",
    "import numpy as np\n",
    "from sklearn.preprocessing import StandardScaler\n",
    "\n",
    "# from sklearn import svm\n",
    "from sklearn.svm import SVC\n",
    "from sklearn.model_selection import GridSearchCV,RandomizedSearchCV\n",
    "from sklearn.metrics import classification_report\n",
    "\n",
    "\n",
    "from sklearn.metrics import accuracy_score, confusion_matrix\n",
    "from sklearn.model_selection import train_test_split, cross_val_score\n",
    "\n"
   ]
  },
  {
   "cell_type": "code",
   "execution_count": 2,
   "metadata": {
    "executionInfo": {
     "elapsed": 370,
     "status": "ok",
     "timestamp": 1672630977277,
     "user": {
      "displayName": "ANANYA GHOSH",
      "userId": "07636421272032694955"
     },
     "user_tz": -330
    },
    "id": "KI9oR3DgIkUI"
   },
   "outputs": [],
   "source": [
    "filename = 'https://raw.githubusercontent.com/slmsshk/pima-indians-diabetes.data.csv/main/pima-indians-diabetes.csv'\n",
    "names = ['preg', 'plas', 'pres', 'skin', 'test', 'mass', 'pedi', 'age', 'class']\n",
    "dataframe = pd.read_csv(filename, names=names)\n",
    "array = dataframe.values\n",
    "X = array[:,0:8]\n",
    "Y = array[:,8]"
   ]
  },
  {
   "cell_type": "code",
   "execution_count": 3,
   "metadata": {
    "executionInfo": {
     "elapsed": 470,
     "status": "ok",
     "timestamp": 1672630980440,
     "user": {
      "displayName": "ANANYA GHOSH",
      "userId": "07636421272032694955"
     },
     "user_tz": -330
    },
    "id": "fy50QCTuIkUI"
   },
   "outputs": [],
   "source": [
    "X_train, X_test, y_train, y_test = train_test_split(X,Y, test_size = 0.3)"
   ]
  },
  {
   "cell_type": "code",
   "execution_count": 4,
   "metadata": {
    "colab": {
     "base_uri": "https://localhost:8080/"
    },
    "executionInfo": {
     "elapsed": 13,
     "status": "ok",
     "timestamp": 1672630981545,
     "user": {
      "displayName": "ANANYA GHOSH",
      "userId": "07636421272032694955"
     },
     "user_tz": -330
    },
    "id": "OySV4I1pIkUJ",
    "outputId": "8885b4e8-c0bb-4f37-e179-b3dd3a8c3f82"
   },
   "outputs": [
    {
     "data": {
      "text/plain": [
       "((6085, 8), (6085,), (2609, 8), (2609,))"
      ]
     },
     "execution_count": 4,
     "metadata": {},
     "output_type": "execute_result"
    }
   ],
   "source": [
    "X_train.shape, y_train.shape, X_test.shape, y_test.shape"
   ]
  },
  {
   "cell_type": "markdown",
   "metadata": {
    "id": "VejCDqsUIkUN"
   },
   "source": [
    "### Grid Search CV"
   ]
  },
  {
   "cell_type": "code",
   "execution_count": null,
   "metadata": {
    "id": "2TSP5v4EqmMv"
   },
   "outputs": [],
   "source": [
    "help(SVC)"
   ]
  },
  {
   "cell_type": "code",
   "execution_count": 5,
   "metadata": {
    "colab": {
     "base_uri": "https://localhost:8080/"
    },
    "executionInfo": {
     "elapsed": 446756,
     "status": "ok",
     "timestamp": 1672631433783,
     "user": {
      "displayName": "ANANYA GHOSH",
      "userId": "07636421272032694955"
     },
     "user_tz": -330
    },
    "id": "gkkgo8vuIkUO",
    "outputId": "d39f6ea8-914d-4efb-94c5-d0a4a7f55ef2"
   },
   "outputs": [
    {
     "name": "stdout",
     "output_type": "stream",
     "text": [
      "Fitting 10 folds for each of 10 candidates, totalling 100 fits\n",
      "[CV 1/10; 1/10] START C=0.0001, gamma=0.01, kernel=linear.......................\n",
      "[CV 1/10; 1/10] END C=0.0001, gamma=0.01, kernel=linear;, score=nan total time=   0.0s\n",
      "[CV 2/10; 1/10] START C=0.0001, gamma=0.01, kernel=linear.......................\n",
      "[CV 2/10; 1/10] END C=0.0001, gamma=0.01, kernel=linear;, score=nan total time=   0.0s\n",
      "[CV 3/10; 1/10] START C=0.0001, gamma=0.01, kernel=linear.......................\n",
      "[CV 3/10; 1/10] END C=0.0001, gamma=0.01, kernel=linear;, score=nan total time=   0.0s\n",
      "[CV 4/10; 1/10] START C=0.0001, gamma=0.01, kernel=linear.......................\n",
      "[CV 4/10; 1/10] END C=0.0001, gamma=0.01, kernel=linear;, score=nan total time=   0.0s\n",
      "[CV 5/10; 1/10] START C=0.0001, gamma=0.01, kernel=linear.......................\n",
      "[CV 5/10; 1/10] END C=0.0001, gamma=0.01, kernel=linear;, score=nan total time=   0.0s\n",
      "[CV 6/10; 1/10] START C=0.0001, gamma=0.01, kernel=linear.......................\n",
      "[CV 6/10; 1/10] END C=0.0001, gamma=0.01, kernel=linear;, score=nan total time=   0.0s\n",
      "[CV 7/10; 1/10] START C=0.0001, gamma=0.01, kernel=linear.......................\n",
      "[CV 7/10; 1/10] END C=0.0001, gamma=0.01, kernel=linear;, score=nan total time=   0.0s\n",
      "[CV 8/10; 1/10] START C=0.0001, gamma=0.01, kernel=linear.......................\n",
      "[CV 8/10; 1/10] END C=0.0001, gamma=0.01, kernel=linear;, score=nan total time=   0.0s\n",
      "[CV 9/10; 1/10] START C=0.0001, gamma=0.01, kernel=linear.......................\n",
      "[CV 9/10; 1/10] END C=0.0001, gamma=0.01, kernel=linear;, score=nan total time=   0.0s\n",
      "[CV 10/10; 1/10] START C=0.0001, gamma=0.01, kernel=linear......................\n",
      "[CV 10/10; 1/10] END C=0.0001, gamma=0.01, kernel=linear;, score=nan total time=   0.0s\n",
      "[CV 1/10; 2/10] START C=0.0001, gamma=0.5, kernel=rbf...........................\n",
      "[CV 1/10; 2/10] END C=0.0001, gamma=0.5, kernel=rbf;, score=nan total time=   0.0s\n",
      "[CV 2/10; 2/10] START C=0.0001, gamma=0.5, kernel=rbf...........................\n",
      "[CV 2/10; 2/10] END C=0.0001, gamma=0.5, kernel=rbf;, score=nan total time=   0.0s\n",
      "[CV 3/10; 2/10] START C=0.0001, gamma=0.5, kernel=rbf...........................\n",
      "[CV 3/10; 2/10] END C=0.0001, gamma=0.5, kernel=rbf;, score=nan total time=   0.0s\n",
      "[CV 4/10; 2/10] START C=0.0001, gamma=0.5, kernel=rbf...........................\n",
      "[CV 4/10; 2/10] END C=0.0001, gamma=0.5, kernel=rbf;, score=nan total time=   0.0s\n",
      "[CV 5/10; 2/10] START C=0.0001, gamma=0.5, kernel=rbf...........................\n",
      "[CV 5/10; 2/10] END C=0.0001, gamma=0.5, kernel=rbf;, score=nan total time=   0.0s\n",
      "[CV 6/10; 2/10] START C=0.0001, gamma=0.5, kernel=rbf...........................\n",
      "[CV 6/10; 2/10] END C=0.0001, gamma=0.5, kernel=rbf;, score=nan total time=   0.0s\n",
      "[CV 7/10; 2/10] START C=0.0001, gamma=0.5, kernel=rbf...........................\n",
      "[CV 7/10; 2/10] END C=0.0001, gamma=0.5, kernel=rbf;, score=nan total time=   0.0s\n",
      "[CV 8/10; 2/10] START C=0.0001, gamma=0.5, kernel=rbf...........................\n",
      "[CV 8/10; 2/10] END C=0.0001, gamma=0.5, kernel=rbf;, score=nan total time=   0.0s\n",
      "[CV 9/10; 2/10] START C=0.0001, gamma=0.5, kernel=rbf...........................\n",
      "[CV 9/10; 2/10] END C=0.0001, gamma=0.5, kernel=rbf;, score=nan total time=   0.0s\n",
      "[CV 10/10; 2/10] START C=0.0001, gamma=0.5, kernel=rbf..........................\n",
      "[CV 10/10; 2/10] END C=0.0001, gamma=0.5, kernel=rbf;, score=nan total time=   0.0s\n",
      "[CV 1/10; 3/10] START C=10, gamma=0.01, kernel=rbf..............................\n",
      "[CV 1/10; 3/10] END .C=10, gamma=0.01, kernel=rbf;, score=nan total time=   0.0s\n",
      "[CV 2/10; 3/10] START C=10, gamma=0.01, kernel=rbf..............................\n",
      "[CV 2/10; 3/10] END .C=10, gamma=0.01, kernel=rbf;, score=nan total time=   0.0s\n",
      "[CV 3/10; 3/10] START C=10, gamma=0.01, kernel=rbf..............................\n",
      "[CV 3/10; 3/10] END .C=10, gamma=0.01, kernel=rbf;, score=nan total time=   0.0s\n",
      "[CV 4/10; 3/10] START C=10, gamma=0.01, kernel=rbf..............................\n",
      "[CV 4/10; 3/10] END .C=10, gamma=0.01, kernel=rbf;, score=nan total time=   0.0s\n",
      "[CV 5/10; 3/10] START C=10, gamma=0.01, kernel=rbf..............................\n",
      "[CV 5/10; 3/10] END .C=10, gamma=0.01, kernel=rbf;, score=nan total time=   0.0s\n",
      "[CV 6/10; 3/10] START C=10, gamma=0.01, kernel=rbf..............................\n",
      "[CV 6/10; 3/10] END .C=10, gamma=0.01, kernel=rbf;, score=nan total time=   0.0s\n",
      "[CV 7/10; 3/10] START C=10, gamma=0.01, kernel=rbf..............................\n",
      "[CV 7/10; 3/10] END .C=10, gamma=0.01, kernel=rbf;, score=nan total time=   0.0s\n",
      "[CV 8/10; 3/10] START C=10, gamma=0.01, kernel=rbf..............................\n",
      "[CV 8/10; 3/10] END .C=10, gamma=0.01, kernel=rbf;, score=nan total time=   0.0s\n",
      "[CV 9/10; 3/10] START C=10, gamma=0.01, kernel=rbf..............................\n",
      "[CV 9/10; 3/10] END .C=10, gamma=0.01, kernel=rbf;, score=nan total time=   0.0s\n",
      "[CV 10/10; 3/10] START C=10, gamma=0.01, kernel=rbf.............................\n",
      "[CV 10/10; 3/10] END C=10, gamma=0.01, kernel=rbf;, score=nan total time=   0.0s\n",
      "[CV 1/10; 4/10] START C=10, gamma=0.01, kernel=linear...........................\n",
      "[CV 1/10; 4/10] END C=10, gamma=0.01, kernel=linear;, score=nan total time=   0.0s\n",
      "[CV 2/10; 4/10] START C=10, gamma=0.01, kernel=linear...........................\n",
      "[CV 2/10; 4/10] END C=10, gamma=0.01, kernel=linear;, score=nan total time=   0.0s\n",
      "[CV 3/10; 4/10] START C=10, gamma=0.01, kernel=linear...........................\n",
      "[CV 3/10; 4/10] END C=10, gamma=0.01, kernel=linear;, score=nan total time=   0.0s\n",
      "[CV 4/10; 4/10] START C=10, gamma=0.01, kernel=linear...........................\n",
      "[CV 4/10; 4/10] END C=10, gamma=0.01, kernel=linear;, score=nan total time=   0.0s\n",
      "[CV 5/10; 4/10] START C=10, gamma=0.01, kernel=linear...........................\n",
      "[CV 5/10; 4/10] END C=10, gamma=0.01, kernel=linear;, score=nan total time=   0.0s\n",
      "[CV 6/10; 4/10] START C=10, gamma=0.01, kernel=linear...........................\n",
      "[CV 6/10; 4/10] END C=10, gamma=0.01, kernel=linear;, score=nan total time=   0.0s\n",
      "[CV 7/10; 4/10] START C=10, gamma=0.01, kernel=linear...........................\n",
      "[CV 7/10; 4/10] END C=10, gamma=0.01, kernel=linear;, score=nan total time=   0.0s\n",
      "[CV 8/10; 4/10] START C=10, gamma=0.01, kernel=linear...........................\n",
      "[CV 8/10; 4/10] END C=10, gamma=0.01, kernel=linear;, score=nan total time=   0.0s\n",
      "[CV 9/10; 4/10] START C=10, gamma=0.01, kernel=linear...........................\n",
      "[CV 9/10; 4/10] END C=10, gamma=0.01, kernel=linear;, score=nan total time=   0.0s\n",
      "[CV 10/10; 4/10] START C=10, gamma=0.01, kernel=linear..........................\n",
      "[CV 10/10; 4/10] END C=10, gamma=0.01, kernel=linear;, score=nan total time=   0.0s\n",
      "[CV 1/10; 5/10] START C=0.1, gamma=0.01, kernel=linear..........................\n",
      "[CV 1/10; 5/10] END C=0.1, gamma=0.01, kernel=linear;, score=nan total time=   0.0s\n",
      "[CV 2/10; 5/10] START C=0.1, gamma=0.01, kernel=linear..........................\n",
      "[CV 2/10; 5/10] END C=0.1, gamma=0.01, kernel=linear;, score=nan total time=   0.0s\n",
      "[CV 3/10; 5/10] START C=0.1, gamma=0.01, kernel=linear..........................\n",
      "[CV 3/10; 5/10] END C=0.1, gamma=0.01, kernel=linear;, score=nan total time=   0.0s\n",
      "[CV 4/10; 5/10] START C=0.1, gamma=0.01, kernel=linear..........................\n",
      "[CV 4/10; 5/10] END C=0.1, gamma=0.01, kernel=linear;, score=nan total time=   0.0s\n",
      "[CV 5/10; 5/10] START C=0.1, gamma=0.01, kernel=linear..........................\n",
      "[CV 5/10; 5/10] END C=0.1, gamma=0.01, kernel=linear;, score=nan total time=   0.0s\n",
      "[CV 6/10; 5/10] START C=0.1, gamma=0.01, kernel=linear..........................\n",
      "[CV 6/10; 5/10] END C=0.1, gamma=0.01, kernel=linear;, score=nan total time=   0.0s\n",
      "[CV 7/10; 5/10] START C=0.1, gamma=0.01, kernel=linear..........................\n",
      "[CV 7/10; 5/10] END C=0.1, gamma=0.01, kernel=linear;, score=nan total time=   0.0s\n",
      "[CV 8/10; 5/10] START C=0.1, gamma=0.01, kernel=linear..........................\n",
      "[CV 8/10; 5/10] END C=0.1, gamma=0.01, kernel=linear;, score=nan total time=   0.0s\n",
      "[CV 9/10; 5/10] START C=0.1, gamma=0.01, kernel=linear..........................\n",
      "[CV 9/10; 5/10] END C=0.1, gamma=0.01, kernel=linear;, score=nan total time=   0.0s\n",
      "[CV 10/10; 5/10] START C=0.1, gamma=0.01, kernel=linear.........................\n",
      "[CV 10/10; 5/10] END C=0.1, gamma=0.01, kernel=linear;, score=nan total time=   0.0s\n",
      "[CV 1/10; 6/10] START C=0.001, gamma=0.5, kernel=linear.........................\n",
      "[CV 1/10; 6/10] END C=0.001, gamma=0.5, kernel=linear;, score=nan total time=   0.0s\n",
      "[CV 2/10; 6/10] START C=0.001, gamma=0.5, kernel=linear.........................\n",
      "[CV 2/10; 6/10] END C=0.001, gamma=0.5, kernel=linear;, score=nan total time=   0.0s\n",
      "[CV 3/10; 6/10] START C=0.001, gamma=0.5, kernel=linear.........................\n",
      "[CV 3/10; 6/10] END C=0.001, gamma=0.5, kernel=linear;, score=nan total time=   0.0s\n",
      "[CV 4/10; 6/10] START C=0.001, gamma=0.5, kernel=linear.........................\n",
      "[CV 4/10; 6/10] END C=0.001, gamma=0.5, kernel=linear;, score=nan total time=   0.0s\n",
      "[CV 5/10; 6/10] START C=0.001, gamma=0.5, kernel=linear.........................\n",
      "[CV 5/10; 6/10] END C=0.001, gamma=0.5, kernel=linear;, score=nan total time=   0.0s\n",
      "[CV 6/10; 6/10] START C=0.001, gamma=0.5, kernel=linear.........................\n",
      "[CV 6/10; 6/10] END C=0.001, gamma=0.5, kernel=linear;, score=nan total time=   0.0s\n",
      "[CV 7/10; 6/10] START C=0.001, gamma=0.5, kernel=linear.........................\n"
     ]
    },
    {
     "name": "stderr",
     "output_type": "stream",
     "text": [
      "C:\\Users\\Acer\\anaconda3\\envs\\tensor\\lib\\site-packages\\sklearn\\model_selection\\_split.py:725: UserWarning: The least populated class in y has only 1 members, which is less than n_splits=10.\n",
      "  warnings.warn(\n"
     ]
    },
    {
     "name": "stdout",
     "output_type": "stream",
     "text": [
      "[CV 7/10; 6/10] END C=0.001, gamma=0.5, kernel=linear;, score=nan total time=   0.0s\n",
      "[CV 8/10; 6/10] START C=0.001, gamma=0.5, kernel=linear.........................\n",
      "[CV 8/10; 6/10] END C=0.001, gamma=0.5, kernel=linear;, score=nan total time=   0.0s\n",
      "[CV 9/10; 6/10] START C=0.001, gamma=0.5, kernel=linear.........................\n",
      "[CV 9/10; 6/10] END C=0.001, gamma=0.5, kernel=linear;, score=nan total time=   0.0s\n",
      "[CV 10/10; 6/10] START C=0.001, gamma=0.5, kernel=linear........................\n",
      "[CV 10/10; 6/10] END C=0.001, gamma=0.5, kernel=linear;, score=nan total time=   0.0s\n",
      "[CV 1/10; 7/10] START C=0.0001, gamma=0.1, kernel=linear........................\n",
      "[CV 1/10; 7/10] END C=0.0001, gamma=0.1, kernel=linear;, score=nan total time=   0.0s\n",
      "[CV 2/10; 7/10] START C=0.0001, gamma=0.1, kernel=linear........................\n",
      "[CV 2/10; 7/10] END C=0.0001, gamma=0.1, kernel=linear;, score=nan total time=   0.0s\n",
      "[CV 3/10; 7/10] START C=0.0001, gamma=0.1, kernel=linear........................\n",
      "[CV 3/10; 7/10] END C=0.0001, gamma=0.1, kernel=linear;, score=nan total time=   0.0s\n",
      "[CV 4/10; 7/10] START C=0.0001, gamma=0.1, kernel=linear........................\n",
      "[CV 4/10; 7/10] END C=0.0001, gamma=0.1, kernel=linear;, score=nan total time=   0.0s\n",
      "[CV 5/10; 7/10] START C=0.0001, gamma=0.1, kernel=linear........................\n",
      "[CV 5/10; 7/10] END C=0.0001, gamma=0.1, kernel=linear;, score=nan total time=   0.0s\n",
      "[CV 6/10; 7/10] START C=0.0001, gamma=0.1, kernel=linear........................\n",
      "[CV 6/10; 7/10] END C=0.0001, gamma=0.1, kernel=linear;, score=nan total time=   0.0s\n",
      "[CV 7/10; 7/10] START C=0.0001, gamma=0.1, kernel=linear........................\n",
      "[CV 7/10; 7/10] END C=0.0001, gamma=0.1, kernel=linear;, score=nan total time=   0.0s\n",
      "[CV 8/10; 7/10] START C=0.0001, gamma=0.1, kernel=linear........................\n",
      "[CV 8/10; 7/10] END C=0.0001, gamma=0.1, kernel=linear;, score=nan total time=   0.0s\n",
      "[CV 9/10; 7/10] START C=0.0001, gamma=0.1, kernel=linear........................\n",
      "[CV 9/10; 7/10] END C=0.0001, gamma=0.1, kernel=linear;, score=nan total time=   0.0s\n",
      "[CV 10/10; 7/10] START C=0.0001, gamma=0.1, kernel=linear.......................\n",
      "[CV 10/10; 7/10] END C=0.0001, gamma=0.1, kernel=linear;, score=nan total time=   0.0s\n",
      "[CV 1/10; 8/10] START C=10, gamma=0.1, kernel=rbf...............................\n",
      "[CV 1/10; 8/10] END ..C=10, gamma=0.1, kernel=rbf;, score=nan total time=   0.0s\n",
      "[CV 2/10; 8/10] START C=10, gamma=0.1, kernel=rbf...............................\n",
      "[CV 2/10; 8/10] END ..C=10, gamma=0.1, kernel=rbf;, score=nan total time=   0.0s\n",
      "[CV 3/10; 8/10] START C=10, gamma=0.1, kernel=rbf...............................\n",
      "[CV 3/10; 8/10] END ..C=10, gamma=0.1, kernel=rbf;, score=nan total time=   0.0s\n",
      "[CV 4/10; 8/10] START C=10, gamma=0.1, kernel=rbf...............................\n",
      "[CV 4/10; 8/10] END ..C=10, gamma=0.1, kernel=rbf;, score=nan total time=   0.0s\n",
      "[CV 5/10; 8/10] START C=10, gamma=0.1, kernel=rbf...............................\n",
      "[CV 5/10; 8/10] END ..C=10, gamma=0.1, kernel=rbf;, score=nan total time=   0.0s\n",
      "[CV 6/10; 8/10] START C=10, gamma=0.1, kernel=rbf...............................\n",
      "[CV 6/10; 8/10] END ..C=10, gamma=0.1, kernel=rbf;, score=nan total time=   0.0s\n",
      "[CV 7/10; 8/10] START C=10, gamma=0.1, kernel=rbf...............................\n",
      "[CV 7/10; 8/10] END ..C=10, gamma=0.1, kernel=rbf;, score=nan total time=   0.0s\n",
      "[CV 8/10; 8/10] START C=10, gamma=0.1, kernel=rbf...............................\n",
      "[CV 8/10; 8/10] END ..C=10, gamma=0.1, kernel=rbf;, score=nan total time=   0.0s\n",
      "[CV 9/10; 8/10] START C=10, gamma=0.1, kernel=rbf...............................\n",
      "[CV 9/10; 8/10] END ..C=10, gamma=0.1, kernel=rbf;, score=nan total time=   0.0s\n",
      "[CV 10/10; 8/10] START C=10, gamma=0.1, kernel=rbf..............................\n",
      "[CV 10/10; 8/10] END .C=10, gamma=0.1, kernel=rbf;, score=nan total time=   0.0s\n",
      "[CV 1/10; 9/10] START C=10, gamma=0.5, kernel=rbf...............................\n",
      "[CV 1/10; 9/10] END ..C=10, gamma=0.5, kernel=rbf;, score=nan total time=   0.0s\n",
      "[CV 2/10; 9/10] START C=10, gamma=0.5, kernel=rbf...............................\n",
      "[CV 2/10; 9/10] END ..C=10, gamma=0.5, kernel=rbf;, score=nan total time=   0.0s\n",
      "[CV 3/10; 9/10] START C=10, gamma=0.5, kernel=rbf...............................\n",
      "[CV 3/10; 9/10] END ..C=10, gamma=0.5, kernel=rbf;, score=nan total time=   0.0s\n",
      "[CV 4/10; 9/10] START C=10, gamma=0.5, kernel=rbf...............................\n",
      "[CV 4/10; 9/10] END ..C=10, gamma=0.5, kernel=rbf;, score=nan total time=   0.0s\n",
      "[CV 5/10; 9/10] START C=10, gamma=0.5, kernel=rbf...............................\n",
      "[CV 5/10; 9/10] END ..C=10, gamma=0.5, kernel=rbf;, score=nan total time=   0.0s\n",
      "[CV 6/10; 9/10] START C=10, gamma=0.5, kernel=rbf...............................\n",
      "[CV 6/10; 9/10] END ..C=10, gamma=0.5, kernel=rbf;, score=nan total time=   0.0s\n",
      "[CV 7/10; 9/10] START C=10, gamma=0.5, kernel=rbf...............................\n",
      "[CV 7/10; 9/10] END ..C=10, gamma=0.5, kernel=rbf;, score=nan total time=   0.0s\n",
      "[CV 8/10; 9/10] START C=10, gamma=0.5, kernel=rbf...............................\n",
      "[CV 8/10; 9/10] END ..C=10, gamma=0.5, kernel=rbf;, score=nan total time=   0.0s\n",
      "[CV 9/10; 9/10] START C=10, gamma=0.5, kernel=rbf...............................\n",
      "[CV 9/10; 9/10] END ..C=10, gamma=0.5, kernel=rbf;, score=nan total time=   0.0s\n",
      "[CV 10/10; 9/10] START C=10, gamma=0.5, kernel=rbf..............................\n",
      "[CV 10/10; 9/10] END .C=10, gamma=0.5, kernel=rbf;, score=nan total time=   0.0s\n",
      "[CV 1/10; 10/10] START C=0.001, gamma=0.5, kernel=rbf...........................\n",
      "[CV 1/10; 10/10] END C=0.001, gamma=0.5, kernel=rbf;, score=nan total time=   0.0s\n",
      "[CV 2/10; 10/10] START C=0.001, gamma=0.5, kernel=rbf...........................\n",
      "[CV 2/10; 10/10] END C=0.001, gamma=0.5, kernel=rbf;, score=nan total time=   0.0s\n",
      "[CV 3/10; 10/10] START C=0.001, gamma=0.5, kernel=rbf...........................\n",
      "[CV 3/10; 10/10] END C=0.001, gamma=0.5, kernel=rbf;, score=nan total time=   0.0s\n",
      "[CV 4/10; 10/10] START C=0.001, gamma=0.5, kernel=rbf...........................\n",
      "[CV 4/10; 10/10] END C=0.001, gamma=0.5, kernel=rbf;, score=nan total time=   0.0s\n",
      "[CV 5/10; 10/10] START C=0.001, gamma=0.5, kernel=rbf...........................\n",
      "[CV 5/10; 10/10] END C=0.001, gamma=0.5, kernel=rbf;, score=nan total time=   0.0s\n",
      "[CV 6/10; 10/10] START C=0.001, gamma=0.5, kernel=rbf...........................\n",
      "[CV 6/10; 10/10] END C=0.001, gamma=0.5, kernel=rbf;, score=nan total time=   0.0s\n",
      "[CV 7/10; 10/10] START C=0.001, gamma=0.5, kernel=rbf...........................\n",
      "[CV 7/10; 10/10] END C=0.001, gamma=0.5, kernel=rbf;, score=nan total time=   0.0s\n",
      "[CV 8/10; 10/10] START C=0.001, gamma=0.5, kernel=rbf...........................\n",
      "[CV 8/10; 10/10] END C=0.001, gamma=0.5, kernel=rbf;, score=nan total time=   0.0s\n",
      "[CV 9/10; 10/10] START C=0.001, gamma=0.5, kernel=rbf...........................\n",
      "[CV 9/10; 10/10] END C=0.001, gamma=0.5, kernel=rbf;, score=nan total time=   0.0s\n",
      "[CV 10/10; 10/10] START C=0.001, gamma=0.5, kernel=rbf..........................\n",
      "[CV 10/10; 10/10] END C=0.001, gamma=0.5, kernel=rbf;, score=nan total time=   0.0s\n"
     ]
    },
    {
     "ename": "ValueError",
     "evalue": "\nAll the 100 fits failed.\nIt is very likely that your model is misconfigured.\nYou can try to debug the error by setting error_score='raise'.\n\nBelow are more details about the failures:\n--------------------------------------------------------------------------------\n100 fits failed with the following error:\nTraceback (most recent call last):\n  File \"C:\\Users\\Acer\\anaconda3\\envs\\tensor\\lib\\site-packages\\sklearn\\model_selection\\_validation.py\", line 732, in _fit_and_score\n    estimator.fit(X_train, y_train, **fit_params)\n  File \"C:\\Users\\Acer\\anaconda3\\envs\\tensor\\lib\\site-packages\\sklearn\\base.py\", line 1151, in wrapper\n    return fit_method(estimator, *args, **kwargs)\n  File \"C:\\Users\\Acer\\anaconda3\\envs\\tensor\\lib\\site-packages\\sklearn\\svm\\_base.py\", line 190, in fit\n    X, y = self._validate_data(\n  File \"C:\\Users\\Acer\\anaconda3\\envs\\tensor\\lib\\site-packages\\sklearn\\base.py\", line 621, in _validate_data\n    X, y = check_X_y(X, y, **check_params)\n  File \"C:\\Users\\Acer\\anaconda3\\envs\\tensor\\lib\\site-packages\\sklearn\\utils\\validation.py\", line 1147, in check_X_y\n    X = check_array(\n  File \"C:\\Users\\Acer\\anaconda3\\envs\\tensor\\lib\\site-packages\\sklearn\\utils\\validation.py\", line 917, in check_array\n    array = _asarray_with_order(array, order=order, dtype=dtype, xp=xp)\n  File \"C:\\Users\\Acer\\anaconda3\\envs\\tensor\\lib\\site-packages\\sklearn\\utils\\_array_api.py\", line 380, in _asarray_with_order\n    array = numpy.asarray(array, order=order, dtype=dtype)\nValueError: could not convert string to float: 'False'\n",
     "output_type": "error",
     "traceback": [
      "\u001b[1;31m---------------------------------------------------------------------------\u001b[0m",
      "\u001b[1;31mValueError\u001b[0m                                Traceback (most recent call last)",
      "Cell \u001b[1;32mIn[5], line 4\u001b[0m\n\u001b[0;32m      2\u001b[0m param_grid \u001b[38;5;241m=\u001b[39m [{\u001b[38;5;124m'\u001b[39m\u001b[38;5;124mkernel\u001b[39m\u001b[38;5;124m'\u001b[39m:[\u001b[38;5;124m'\u001b[39m\u001b[38;5;124mlinear\u001b[39m\u001b[38;5;124m'\u001b[39m,\u001b[38;5;124m'\u001b[39m\u001b[38;5;124mrbf\u001b[39m\u001b[38;5;124m'\u001b[39m],\u001b[38;5;124m'\u001b[39m\u001b[38;5;124mgamma\u001b[39m\u001b[38;5;124m'\u001b[39m:[\u001b[38;5;241m0.5\u001b[39m,\u001b[38;5;241m0.1\u001b[39m,\u001b[38;5;241m0.01\u001b[39m],\u001b[38;5;124m'\u001b[39m\u001b[38;5;124mC\u001b[39m\u001b[38;5;124m'\u001b[39m:[\u001b[38;5;241m10\u001b[39m,\u001b[38;5;241m0.1\u001b[39m,\u001b[38;5;241m0.001\u001b[39m,\u001b[38;5;241m0.0001\u001b[39m] }]\n\u001b[0;32m      3\u001b[0m gsv \u001b[38;5;241m=\u001b[39m RandomizedSearchCV(clf,param_grid,cv\u001b[38;5;241m=\u001b[39m\u001b[38;5;241m10\u001b[39m,verbose\u001b[38;5;241m=\u001b[39m\u001b[38;5;241m300\u001b[39m)\n\u001b[1;32m----> 4\u001b[0m \u001b[43mgsv\u001b[49m\u001b[38;5;241;43m.\u001b[39;49m\u001b[43mfit\u001b[49m\u001b[43m(\u001b[49m\u001b[43mX_train\u001b[49m\u001b[43m,\u001b[49m\u001b[43my_train\u001b[49m\u001b[43m)\u001b[49m\n",
      "File \u001b[1;32m~\\anaconda3\\envs\\tensor\\lib\\site-packages\\sklearn\\base.py:1151\u001b[0m, in \u001b[0;36m_fit_context.<locals>.decorator.<locals>.wrapper\u001b[1;34m(estimator, *args, **kwargs)\u001b[0m\n\u001b[0;32m   1144\u001b[0m     estimator\u001b[38;5;241m.\u001b[39m_validate_params()\n\u001b[0;32m   1146\u001b[0m \u001b[38;5;28;01mwith\u001b[39;00m config_context(\n\u001b[0;32m   1147\u001b[0m     skip_parameter_validation\u001b[38;5;241m=\u001b[39m(\n\u001b[0;32m   1148\u001b[0m         prefer_skip_nested_validation \u001b[38;5;129;01mor\u001b[39;00m global_skip_validation\n\u001b[0;32m   1149\u001b[0m     )\n\u001b[0;32m   1150\u001b[0m ):\n\u001b[1;32m-> 1151\u001b[0m     \u001b[38;5;28;01mreturn\u001b[39;00m fit_method(estimator, \u001b[38;5;241m*\u001b[39margs, \u001b[38;5;241m*\u001b[39m\u001b[38;5;241m*\u001b[39mkwargs)\n",
      "File \u001b[1;32m~\\anaconda3\\envs\\tensor\\lib\\site-packages\\sklearn\\model_selection\\_search.py:898\u001b[0m, in \u001b[0;36mBaseSearchCV.fit\u001b[1;34m(self, X, y, groups, **fit_params)\u001b[0m\n\u001b[0;32m    892\u001b[0m     results \u001b[38;5;241m=\u001b[39m \u001b[38;5;28mself\u001b[39m\u001b[38;5;241m.\u001b[39m_format_results(\n\u001b[0;32m    893\u001b[0m         all_candidate_params, n_splits, all_out, all_more_results\n\u001b[0;32m    894\u001b[0m     )\n\u001b[0;32m    896\u001b[0m     \u001b[38;5;28;01mreturn\u001b[39;00m results\n\u001b[1;32m--> 898\u001b[0m \u001b[38;5;28;43mself\u001b[39;49m\u001b[38;5;241;43m.\u001b[39;49m\u001b[43m_run_search\u001b[49m\u001b[43m(\u001b[49m\u001b[43mevaluate_candidates\u001b[49m\u001b[43m)\u001b[49m\n\u001b[0;32m    900\u001b[0m \u001b[38;5;66;03m# multimetric is determined here because in the case of a callable\u001b[39;00m\n\u001b[0;32m    901\u001b[0m \u001b[38;5;66;03m# self.scoring the return type is only known after calling\u001b[39;00m\n\u001b[0;32m    902\u001b[0m first_test_score \u001b[38;5;241m=\u001b[39m all_out[\u001b[38;5;241m0\u001b[39m][\u001b[38;5;124m\"\u001b[39m\u001b[38;5;124mtest_scores\u001b[39m\u001b[38;5;124m\"\u001b[39m]\n",
      "File \u001b[1;32m~\\anaconda3\\envs\\tensor\\lib\\site-packages\\sklearn\\model_selection\\_search.py:1806\u001b[0m, in \u001b[0;36mRandomizedSearchCV._run_search\u001b[1;34m(self, evaluate_candidates)\u001b[0m\n\u001b[0;32m   1804\u001b[0m \u001b[38;5;28;01mdef\u001b[39;00m \u001b[38;5;21m_run_search\u001b[39m(\u001b[38;5;28mself\u001b[39m, evaluate_candidates):\n\u001b[0;32m   1805\u001b[0m     \u001b[38;5;124;03m\"\"\"Search n_iter candidates from param_distributions\"\"\"\u001b[39;00m\n\u001b[1;32m-> 1806\u001b[0m     \u001b[43mevaluate_candidates\u001b[49m\u001b[43m(\u001b[49m\n\u001b[0;32m   1807\u001b[0m \u001b[43m        \u001b[49m\u001b[43mParameterSampler\u001b[49m\u001b[43m(\u001b[49m\n\u001b[0;32m   1808\u001b[0m \u001b[43m            \u001b[49m\u001b[38;5;28;43mself\u001b[39;49m\u001b[38;5;241;43m.\u001b[39;49m\u001b[43mparam_distributions\u001b[49m\u001b[43m,\u001b[49m\u001b[43m \u001b[49m\u001b[38;5;28;43mself\u001b[39;49m\u001b[38;5;241;43m.\u001b[39;49m\u001b[43mn_iter\u001b[49m\u001b[43m,\u001b[49m\u001b[43m \u001b[49m\u001b[43mrandom_state\u001b[49m\u001b[38;5;241;43m=\u001b[39;49m\u001b[38;5;28;43mself\u001b[39;49m\u001b[38;5;241;43m.\u001b[39;49m\u001b[43mrandom_state\u001b[49m\n\u001b[0;32m   1809\u001b[0m \u001b[43m        \u001b[49m\u001b[43m)\u001b[49m\n\u001b[0;32m   1810\u001b[0m \u001b[43m    \u001b[49m\u001b[43m)\u001b[49m\n",
      "File \u001b[1;32m~\\anaconda3\\envs\\tensor\\lib\\site-packages\\sklearn\\model_selection\\_search.py:875\u001b[0m, in \u001b[0;36mBaseSearchCV.fit.<locals>.evaluate_candidates\u001b[1;34m(candidate_params, cv, more_results)\u001b[0m\n\u001b[0;32m    868\u001b[0m \u001b[38;5;28;01melif\u001b[39;00m \u001b[38;5;28mlen\u001b[39m(out) \u001b[38;5;241m!=\u001b[39m n_candidates \u001b[38;5;241m*\u001b[39m n_splits:\n\u001b[0;32m    869\u001b[0m     \u001b[38;5;28;01mraise\u001b[39;00m \u001b[38;5;167;01mValueError\u001b[39;00m(\n\u001b[0;32m    870\u001b[0m         \u001b[38;5;124m\"\u001b[39m\u001b[38;5;124mcv.split and cv.get_n_splits returned \u001b[39m\u001b[38;5;124m\"\u001b[39m\n\u001b[0;32m    871\u001b[0m         \u001b[38;5;124m\"\u001b[39m\u001b[38;5;124minconsistent results. Expected \u001b[39m\u001b[38;5;132;01m{}\u001b[39;00m\u001b[38;5;124m \u001b[39m\u001b[38;5;124m\"\u001b[39m\n\u001b[0;32m    872\u001b[0m         \u001b[38;5;124m\"\u001b[39m\u001b[38;5;124msplits, got \u001b[39m\u001b[38;5;132;01m{}\u001b[39;00m\u001b[38;5;124m\"\u001b[39m\u001b[38;5;241m.\u001b[39mformat(n_splits, \u001b[38;5;28mlen\u001b[39m(out) \u001b[38;5;241m/\u001b[39m\u001b[38;5;241m/\u001b[39m n_candidates)\n\u001b[0;32m    873\u001b[0m     )\n\u001b[1;32m--> 875\u001b[0m \u001b[43m_warn_or_raise_about_fit_failures\u001b[49m\u001b[43m(\u001b[49m\u001b[43mout\u001b[49m\u001b[43m,\u001b[49m\u001b[43m \u001b[49m\u001b[38;5;28;43mself\u001b[39;49m\u001b[38;5;241;43m.\u001b[39;49m\u001b[43merror_score\u001b[49m\u001b[43m)\u001b[49m\n\u001b[0;32m    877\u001b[0m \u001b[38;5;66;03m# For callable self.scoring, the return type is only know after\u001b[39;00m\n\u001b[0;32m    878\u001b[0m \u001b[38;5;66;03m# calling. If the return type is a dictionary, the error scores\u001b[39;00m\n\u001b[0;32m    879\u001b[0m \u001b[38;5;66;03m# can now be inserted with the correct key. The type checking\u001b[39;00m\n\u001b[0;32m    880\u001b[0m \u001b[38;5;66;03m# of out will be done in `_insert_error_scores`.\u001b[39;00m\n\u001b[0;32m    881\u001b[0m \u001b[38;5;28;01mif\u001b[39;00m callable(\u001b[38;5;28mself\u001b[39m\u001b[38;5;241m.\u001b[39mscoring):\n",
      "File \u001b[1;32m~\\anaconda3\\envs\\tensor\\lib\\site-packages\\sklearn\\model_selection\\_validation.py:414\u001b[0m, in \u001b[0;36m_warn_or_raise_about_fit_failures\u001b[1;34m(results, error_score)\u001b[0m\n\u001b[0;32m    407\u001b[0m \u001b[38;5;28;01mif\u001b[39;00m num_failed_fits \u001b[38;5;241m==\u001b[39m num_fits:\n\u001b[0;32m    408\u001b[0m     all_fits_failed_message \u001b[38;5;241m=\u001b[39m (\n\u001b[0;32m    409\u001b[0m         \u001b[38;5;124mf\u001b[39m\u001b[38;5;124m\"\u001b[39m\u001b[38;5;130;01m\\n\u001b[39;00m\u001b[38;5;124mAll the \u001b[39m\u001b[38;5;132;01m{\u001b[39;00mnum_fits\u001b[38;5;132;01m}\u001b[39;00m\u001b[38;5;124m fits failed.\u001b[39m\u001b[38;5;130;01m\\n\u001b[39;00m\u001b[38;5;124m\"\u001b[39m\n\u001b[0;32m    410\u001b[0m         \u001b[38;5;124m\"\u001b[39m\u001b[38;5;124mIt is very likely that your model is misconfigured.\u001b[39m\u001b[38;5;130;01m\\n\u001b[39;00m\u001b[38;5;124m\"\u001b[39m\n\u001b[0;32m    411\u001b[0m         \u001b[38;5;124m\"\u001b[39m\u001b[38;5;124mYou can try to debug the error by setting error_score=\u001b[39m\u001b[38;5;124m'\u001b[39m\u001b[38;5;124mraise\u001b[39m\u001b[38;5;124m'\u001b[39m\u001b[38;5;124m.\u001b[39m\u001b[38;5;130;01m\\n\u001b[39;00m\u001b[38;5;130;01m\\n\u001b[39;00m\u001b[38;5;124m\"\u001b[39m\n\u001b[0;32m    412\u001b[0m         \u001b[38;5;124mf\u001b[39m\u001b[38;5;124m\"\u001b[39m\u001b[38;5;124mBelow are more details about the failures:\u001b[39m\u001b[38;5;130;01m\\n\u001b[39;00m\u001b[38;5;132;01m{\u001b[39;00mfit_errors_summary\u001b[38;5;132;01m}\u001b[39;00m\u001b[38;5;124m\"\u001b[39m\n\u001b[0;32m    413\u001b[0m     )\n\u001b[1;32m--> 414\u001b[0m     \u001b[38;5;28;01mraise\u001b[39;00m \u001b[38;5;167;01mValueError\u001b[39;00m(all_fits_failed_message)\n\u001b[0;32m    416\u001b[0m \u001b[38;5;28;01melse\u001b[39;00m:\n\u001b[0;32m    417\u001b[0m     some_fits_failed_message \u001b[38;5;241m=\u001b[39m (\n\u001b[0;32m    418\u001b[0m         \u001b[38;5;124mf\u001b[39m\u001b[38;5;124m\"\u001b[39m\u001b[38;5;130;01m\\n\u001b[39;00m\u001b[38;5;132;01m{\u001b[39;00mnum_failed_fits\u001b[38;5;132;01m}\u001b[39;00m\u001b[38;5;124m fits failed out of a total of \u001b[39m\u001b[38;5;132;01m{\u001b[39;00mnum_fits\u001b[38;5;132;01m}\u001b[39;00m\u001b[38;5;124m.\u001b[39m\u001b[38;5;130;01m\\n\u001b[39;00m\u001b[38;5;124m\"\u001b[39m\n\u001b[0;32m    419\u001b[0m         \u001b[38;5;124m\"\u001b[39m\u001b[38;5;124mThe score on these train-test partitions for these parameters\u001b[39m\u001b[38;5;124m\"\u001b[39m\n\u001b[1;32m   (...)\u001b[0m\n\u001b[0;32m    423\u001b[0m         \u001b[38;5;124mf\u001b[39m\u001b[38;5;124m\"\u001b[39m\u001b[38;5;124mBelow are more details about the failures:\u001b[39m\u001b[38;5;130;01m\\n\u001b[39;00m\u001b[38;5;132;01m{\u001b[39;00mfit_errors_summary\u001b[38;5;132;01m}\u001b[39;00m\u001b[38;5;124m\"\u001b[39m\n\u001b[0;32m    424\u001b[0m     )\n",
      "\u001b[1;31mValueError\u001b[0m: \nAll the 100 fits failed.\nIt is very likely that your model is misconfigured.\nYou can try to debug the error by setting error_score='raise'.\n\nBelow are more details about the failures:\n--------------------------------------------------------------------------------\n100 fits failed with the following error:\nTraceback (most recent call last):\n  File \"C:\\Users\\Acer\\anaconda3\\envs\\tensor\\lib\\site-packages\\sklearn\\model_selection\\_validation.py\", line 732, in _fit_and_score\n    estimator.fit(X_train, y_train, **fit_params)\n  File \"C:\\Users\\Acer\\anaconda3\\envs\\tensor\\lib\\site-packages\\sklearn\\base.py\", line 1151, in wrapper\n    return fit_method(estimator, *args, **kwargs)\n  File \"C:\\Users\\Acer\\anaconda3\\envs\\tensor\\lib\\site-packages\\sklearn\\svm\\_base.py\", line 190, in fit\n    X, y = self._validate_data(\n  File \"C:\\Users\\Acer\\anaconda3\\envs\\tensor\\lib\\site-packages\\sklearn\\base.py\", line 621, in _validate_data\n    X, y = check_X_y(X, y, **check_params)\n  File \"C:\\Users\\Acer\\anaconda3\\envs\\tensor\\lib\\site-packages\\sklearn\\utils\\validation.py\", line 1147, in check_X_y\n    X = check_array(\n  File \"C:\\Users\\Acer\\anaconda3\\envs\\tensor\\lib\\site-packages\\sklearn\\utils\\validation.py\", line 917, in check_array\n    array = _asarray_with_order(array, order=order, dtype=dtype, xp=xp)\n  File \"C:\\Users\\Acer\\anaconda3\\envs\\tensor\\lib\\site-packages\\sklearn\\utils\\_array_api.py\", line 380, in _asarray_with_order\n    array = numpy.asarray(array, order=order, dtype=dtype)\nValueError: could not convert string to float: 'False'\n"
     ]
    }
   ],
   "source": [
    "clf = SVC()\n",
    "param_grid = [{'kernel':['linear','rbf'],'gamma':[0.5,0.1,0.01],'C':[10,0.1,0.001,0.0001] }]\n",
    "gsv = RandomizedSearchCV(clf,param_grid,cv=10,verbose=300)\n",
    "gsv.fit(X_train,y_train)"
   ]
  },
  {
   "cell_type": "code",
   "execution_count": null,
   "metadata": {
    "colab": {
     "base_uri": "https://localhost:8080/"
    },
    "executionInfo": {
     "elapsed": 421,
     "status": "ok",
     "timestamp": 1672632552449,
     "user": {
      "displayName": "ANANYA GHOSH",
      "userId": "07636421272032694955"
     },
     "user_tz": -330
    },
    "id": "FPu2_mX6IkUO",
    "outputId": "04468606-30f8-4a03-930f-c70a06dcf832"
   },
   "outputs": [],
   "source": [
    "gsv.best_params_ , gsv.best_score_ "
   ]
  },
  {
   "cell_type": "code",
   "execution_count": 6,
   "metadata": {
    "colab": {
     "base_uri": "https://localhost:8080/"
    },
    "executionInfo": {
     "elapsed": 20505,
     "status": "ok",
     "timestamp": 1672632577585,
     "user": {
      "displayName": "ANANYA GHOSH",
      "userId": "07636421272032694955"
     },
     "user_tz": -330
    },
    "id": "BLG9jTv7IkUP",
    "outputId": "75bd81f9-4dc5-41dc-f77a-7ac8a0ead0ad"
   },
   "outputs": [
    {
     "ename": "ValueError",
     "evalue": "could not convert string to float: 'False'",
     "output_type": "error",
     "traceback": [
      "\u001b[1;31m---------------------------------------------------------------------------\u001b[0m",
      "\u001b[1;31mValueError\u001b[0m                                Traceback (most recent call last)",
      "Cell \u001b[1;32mIn[6], line 2\u001b[0m\n\u001b[0;32m      1\u001b[0m clf \u001b[38;5;241m=\u001b[39m SVC(kernel\u001b[38;5;241m=\u001b[39m\u001b[38;5;124m'\u001b[39m\u001b[38;5;124mlinear\u001b[39m\u001b[38;5;124m'\u001b[39m,C\u001b[38;5;241m=\u001b[39m\u001b[38;5;241m10\u001b[39m)\n\u001b[1;32m----> 2\u001b[0m \u001b[43mclf\u001b[49m\u001b[38;5;241;43m.\u001b[39;49m\u001b[43mfit\u001b[49m\u001b[43m(\u001b[49m\u001b[43mX_train\u001b[49m\u001b[43m \u001b[49m\u001b[43m,\u001b[49m\u001b[43m \u001b[49m\u001b[43my_train\u001b[49m\u001b[43m)\u001b[49m\n\u001b[0;32m      3\u001b[0m y_pred \u001b[38;5;241m=\u001b[39m clf\u001b[38;5;241m.\u001b[39mpredict(X_test)\n\u001b[0;32m      4\u001b[0m acc \u001b[38;5;241m=\u001b[39m accuracy_score(y_test, y_pred) \u001b[38;5;241m*\u001b[39m \u001b[38;5;241m100\u001b[39m\n",
      "File \u001b[1;32m~\\anaconda3\\envs\\tensor\\lib\\site-packages\\sklearn\\base.py:1151\u001b[0m, in \u001b[0;36m_fit_context.<locals>.decorator.<locals>.wrapper\u001b[1;34m(estimator, *args, **kwargs)\u001b[0m\n\u001b[0;32m   1144\u001b[0m     estimator\u001b[38;5;241m.\u001b[39m_validate_params()\n\u001b[0;32m   1146\u001b[0m \u001b[38;5;28;01mwith\u001b[39;00m config_context(\n\u001b[0;32m   1147\u001b[0m     skip_parameter_validation\u001b[38;5;241m=\u001b[39m(\n\u001b[0;32m   1148\u001b[0m         prefer_skip_nested_validation \u001b[38;5;129;01mor\u001b[39;00m global_skip_validation\n\u001b[0;32m   1149\u001b[0m     )\n\u001b[0;32m   1150\u001b[0m ):\n\u001b[1;32m-> 1151\u001b[0m     \u001b[38;5;28;01mreturn\u001b[39;00m fit_method(estimator, \u001b[38;5;241m*\u001b[39margs, \u001b[38;5;241m*\u001b[39m\u001b[38;5;241m*\u001b[39mkwargs)\n",
      "File \u001b[1;32m~\\anaconda3\\envs\\tensor\\lib\\site-packages\\sklearn\\svm\\_base.py:190\u001b[0m, in \u001b[0;36mBaseLibSVM.fit\u001b[1;34m(self, X, y, sample_weight)\u001b[0m\n\u001b[0;32m    188\u001b[0m     check_consistent_length(X, y)\n\u001b[0;32m    189\u001b[0m \u001b[38;5;28;01melse\u001b[39;00m:\n\u001b[1;32m--> 190\u001b[0m     X, y \u001b[38;5;241m=\u001b[39m \u001b[38;5;28;43mself\u001b[39;49m\u001b[38;5;241;43m.\u001b[39;49m\u001b[43m_validate_data\u001b[49m\u001b[43m(\u001b[49m\n\u001b[0;32m    191\u001b[0m \u001b[43m        \u001b[49m\u001b[43mX\u001b[49m\u001b[43m,\u001b[49m\n\u001b[0;32m    192\u001b[0m \u001b[43m        \u001b[49m\u001b[43my\u001b[49m\u001b[43m,\u001b[49m\n\u001b[0;32m    193\u001b[0m \u001b[43m        \u001b[49m\u001b[43mdtype\u001b[49m\u001b[38;5;241;43m=\u001b[39;49m\u001b[43mnp\u001b[49m\u001b[38;5;241;43m.\u001b[39;49m\u001b[43mfloat64\u001b[49m\u001b[43m,\u001b[49m\n\u001b[0;32m    194\u001b[0m \u001b[43m        \u001b[49m\u001b[43morder\u001b[49m\u001b[38;5;241;43m=\u001b[39;49m\u001b[38;5;124;43m\"\u001b[39;49m\u001b[38;5;124;43mC\u001b[39;49m\u001b[38;5;124;43m\"\u001b[39;49m\u001b[43m,\u001b[49m\n\u001b[0;32m    195\u001b[0m \u001b[43m        \u001b[49m\u001b[43maccept_sparse\u001b[49m\u001b[38;5;241;43m=\u001b[39;49m\u001b[38;5;124;43m\"\u001b[39;49m\u001b[38;5;124;43mcsr\u001b[39;49m\u001b[38;5;124;43m\"\u001b[39;49m\u001b[43m,\u001b[49m\n\u001b[0;32m    196\u001b[0m \u001b[43m        \u001b[49m\u001b[43maccept_large_sparse\u001b[49m\u001b[38;5;241;43m=\u001b[39;49m\u001b[38;5;28;43;01mFalse\u001b[39;49;00m\u001b[43m,\u001b[49m\n\u001b[0;32m    197\u001b[0m \u001b[43m    \u001b[49m\u001b[43m)\u001b[49m\n\u001b[0;32m    199\u001b[0m y \u001b[38;5;241m=\u001b[39m \u001b[38;5;28mself\u001b[39m\u001b[38;5;241m.\u001b[39m_validate_targets(y)\n\u001b[0;32m    201\u001b[0m sample_weight \u001b[38;5;241m=\u001b[39m np\u001b[38;5;241m.\u001b[39masarray(\n\u001b[0;32m    202\u001b[0m     [] \u001b[38;5;28;01mif\u001b[39;00m sample_weight \u001b[38;5;129;01mis\u001b[39;00m \u001b[38;5;28;01mNone\u001b[39;00m \u001b[38;5;28;01melse\u001b[39;00m sample_weight, dtype\u001b[38;5;241m=\u001b[39mnp\u001b[38;5;241m.\u001b[39mfloat64\n\u001b[0;32m    203\u001b[0m )\n",
      "File \u001b[1;32m~\\anaconda3\\envs\\tensor\\lib\\site-packages\\sklearn\\base.py:621\u001b[0m, in \u001b[0;36mBaseEstimator._validate_data\u001b[1;34m(self, X, y, reset, validate_separately, cast_to_ndarray, **check_params)\u001b[0m\n\u001b[0;32m    619\u001b[0m         y \u001b[38;5;241m=\u001b[39m check_array(y, input_name\u001b[38;5;241m=\u001b[39m\u001b[38;5;124m\"\u001b[39m\u001b[38;5;124my\u001b[39m\u001b[38;5;124m\"\u001b[39m, \u001b[38;5;241m*\u001b[39m\u001b[38;5;241m*\u001b[39mcheck_y_params)\n\u001b[0;32m    620\u001b[0m     \u001b[38;5;28;01melse\u001b[39;00m:\n\u001b[1;32m--> 621\u001b[0m         X, y \u001b[38;5;241m=\u001b[39m check_X_y(X, y, \u001b[38;5;241m*\u001b[39m\u001b[38;5;241m*\u001b[39mcheck_params)\n\u001b[0;32m    622\u001b[0m     out \u001b[38;5;241m=\u001b[39m X, y\n\u001b[0;32m    624\u001b[0m \u001b[38;5;28;01mif\u001b[39;00m \u001b[38;5;129;01mnot\u001b[39;00m no_val_X \u001b[38;5;129;01mand\u001b[39;00m check_params\u001b[38;5;241m.\u001b[39mget(\u001b[38;5;124m\"\u001b[39m\u001b[38;5;124mensure_2d\u001b[39m\u001b[38;5;124m\"\u001b[39m, \u001b[38;5;28;01mTrue\u001b[39;00m):\n",
      "File \u001b[1;32m~\\anaconda3\\envs\\tensor\\lib\\site-packages\\sklearn\\utils\\validation.py:1147\u001b[0m, in \u001b[0;36mcheck_X_y\u001b[1;34m(X, y, accept_sparse, accept_large_sparse, dtype, order, copy, force_all_finite, ensure_2d, allow_nd, multi_output, ensure_min_samples, ensure_min_features, y_numeric, estimator)\u001b[0m\n\u001b[0;32m   1142\u001b[0m         estimator_name \u001b[38;5;241m=\u001b[39m _check_estimator_name(estimator)\n\u001b[0;32m   1143\u001b[0m     \u001b[38;5;28;01mraise\u001b[39;00m \u001b[38;5;167;01mValueError\u001b[39;00m(\n\u001b[0;32m   1144\u001b[0m         \u001b[38;5;124mf\u001b[39m\u001b[38;5;124m\"\u001b[39m\u001b[38;5;132;01m{\u001b[39;00mestimator_name\u001b[38;5;132;01m}\u001b[39;00m\u001b[38;5;124m requires y to be passed, but the target y is None\u001b[39m\u001b[38;5;124m\"\u001b[39m\n\u001b[0;32m   1145\u001b[0m     )\n\u001b[1;32m-> 1147\u001b[0m X \u001b[38;5;241m=\u001b[39m \u001b[43mcheck_array\u001b[49m\u001b[43m(\u001b[49m\n\u001b[0;32m   1148\u001b[0m \u001b[43m    \u001b[49m\u001b[43mX\u001b[49m\u001b[43m,\u001b[49m\n\u001b[0;32m   1149\u001b[0m \u001b[43m    \u001b[49m\u001b[43maccept_sparse\u001b[49m\u001b[38;5;241;43m=\u001b[39;49m\u001b[43maccept_sparse\u001b[49m\u001b[43m,\u001b[49m\n\u001b[0;32m   1150\u001b[0m \u001b[43m    \u001b[49m\u001b[43maccept_large_sparse\u001b[49m\u001b[38;5;241;43m=\u001b[39;49m\u001b[43maccept_large_sparse\u001b[49m\u001b[43m,\u001b[49m\n\u001b[0;32m   1151\u001b[0m \u001b[43m    \u001b[49m\u001b[43mdtype\u001b[49m\u001b[38;5;241;43m=\u001b[39;49m\u001b[43mdtype\u001b[49m\u001b[43m,\u001b[49m\n\u001b[0;32m   1152\u001b[0m \u001b[43m    \u001b[49m\u001b[43morder\u001b[49m\u001b[38;5;241;43m=\u001b[39;49m\u001b[43morder\u001b[49m\u001b[43m,\u001b[49m\n\u001b[0;32m   1153\u001b[0m \u001b[43m    \u001b[49m\u001b[43mcopy\u001b[49m\u001b[38;5;241;43m=\u001b[39;49m\u001b[43mcopy\u001b[49m\u001b[43m,\u001b[49m\n\u001b[0;32m   1154\u001b[0m \u001b[43m    \u001b[49m\u001b[43mforce_all_finite\u001b[49m\u001b[38;5;241;43m=\u001b[39;49m\u001b[43mforce_all_finite\u001b[49m\u001b[43m,\u001b[49m\n\u001b[0;32m   1155\u001b[0m \u001b[43m    \u001b[49m\u001b[43mensure_2d\u001b[49m\u001b[38;5;241;43m=\u001b[39;49m\u001b[43mensure_2d\u001b[49m\u001b[43m,\u001b[49m\n\u001b[0;32m   1156\u001b[0m \u001b[43m    \u001b[49m\u001b[43mallow_nd\u001b[49m\u001b[38;5;241;43m=\u001b[39;49m\u001b[43mallow_nd\u001b[49m\u001b[43m,\u001b[49m\n\u001b[0;32m   1157\u001b[0m \u001b[43m    \u001b[49m\u001b[43mensure_min_samples\u001b[49m\u001b[38;5;241;43m=\u001b[39;49m\u001b[43mensure_min_samples\u001b[49m\u001b[43m,\u001b[49m\n\u001b[0;32m   1158\u001b[0m \u001b[43m    \u001b[49m\u001b[43mensure_min_features\u001b[49m\u001b[38;5;241;43m=\u001b[39;49m\u001b[43mensure_min_features\u001b[49m\u001b[43m,\u001b[49m\n\u001b[0;32m   1159\u001b[0m \u001b[43m    \u001b[49m\u001b[43mestimator\u001b[49m\u001b[38;5;241;43m=\u001b[39;49m\u001b[43mestimator\u001b[49m\u001b[43m,\u001b[49m\n\u001b[0;32m   1160\u001b[0m \u001b[43m    \u001b[49m\u001b[43minput_name\u001b[49m\u001b[38;5;241;43m=\u001b[39;49m\u001b[38;5;124;43m\"\u001b[39;49m\u001b[38;5;124;43mX\u001b[39;49m\u001b[38;5;124;43m\"\u001b[39;49m\u001b[43m,\u001b[49m\n\u001b[0;32m   1161\u001b[0m \u001b[43m\u001b[49m\u001b[43m)\u001b[49m\n\u001b[0;32m   1163\u001b[0m y \u001b[38;5;241m=\u001b[39m _check_y(y, multi_output\u001b[38;5;241m=\u001b[39mmulti_output, y_numeric\u001b[38;5;241m=\u001b[39my_numeric, estimator\u001b[38;5;241m=\u001b[39mestimator)\n\u001b[0;32m   1165\u001b[0m check_consistent_length(X, y)\n",
      "File \u001b[1;32m~\\anaconda3\\envs\\tensor\\lib\\site-packages\\sklearn\\utils\\validation.py:917\u001b[0m, in \u001b[0;36mcheck_array\u001b[1;34m(array, accept_sparse, accept_large_sparse, dtype, order, copy, force_all_finite, ensure_2d, allow_nd, ensure_min_samples, ensure_min_features, estimator, input_name)\u001b[0m\n\u001b[0;32m    915\u001b[0m         array \u001b[38;5;241m=\u001b[39m xp\u001b[38;5;241m.\u001b[39mastype(array, dtype, copy\u001b[38;5;241m=\u001b[39m\u001b[38;5;28;01mFalse\u001b[39;00m)\n\u001b[0;32m    916\u001b[0m     \u001b[38;5;28;01melse\u001b[39;00m:\n\u001b[1;32m--> 917\u001b[0m         array \u001b[38;5;241m=\u001b[39m \u001b[43m_asarray_with_order\u001b[49m\u001b[43m(\u001b[49m\u001b[43marray\u001b[49m\u001b[43m,\u001b[49m\u001b[43m \u001b[49m\u001b[43morder\u001b[49m\u001b[38;5;241;43m=\u001b[39;49m\u001b[43morder\u001b[49m\u001b[43m,\u001b[49m\u001b[43m \u001b[49m\u001b[43mdtype\u001b[49m\u001b[38;5;241;43m=\u001b[39;49m\u001b[43mdtype\u001b[49m\u001b[43m,\u001b[49m\u001b[43m \u001b[49m\u001b[43mxp\u001b[49m\u001b[38;5;241;43m=\u001b[39;49m\u001b[43mxp\u001b[49m\u001b[43m)\u001b[49m\n\u001b[0;32m    918\u001b[0m \u001b[38;5;28;01mexcept\u001b[39;00m ComplexWarning \u001b[38;5;28;01mas\u001b[39;00m complex_warning:\n\u001b[0;32m    919\u001b[0m     \u001b[38;5;28;01mraise\u001b[39;00m \u001b[38;5;167;01mValueError\u001b[39;00m(\n\u001b[0;32m    920\u001b[0m         \u001b[38;5;124m\"\u001b[39m\u001b[38;5;124mComplex data not supported\u001b[39m\u001b[38;5;130;01m\\n\u001b[39;00m\u001b[38;5;132;01m{}\u001b[39;00m\u001b[38;5;130;01m\\n\u001b[39;00m\u001b[38;5;124m\"\u001b[39m\u001b[38;5;241m.\u001b[39mformat(array)\n\u001b[0;32m    921\u001b[0m     ) \u001b[38;5;28;01mfrom\u001b[39;00m \u001b[38;5;21;01mcomplex_warning\u001b[39;00m\n",
      "File \u001b[1;32m~\\anaconda3\\envs\\tensor\\lib\\site-packages\\sklearn\\utils\\_array_api.py:380\u001b[0m, in \u001b[0;36m_asarray_with_order\u001b[1;34m(array, dtype, order, copy, xp)\u001b[0m\n\u001b[0;32m    378\u001b[0m     array \u001b[38;5;241m=\u001b[39m numpy\u001b[38;5;241m.\u001b[39marray(array, order\u001b[38;5;241m=\u001b[39morder, dtype\u001b[38;5;241m=\u001b[39mdtype)\n\u001b[0;32m    379\u001b[0m \u001b[38;5;28;01melse\u001b[39;00m:\n\u001b[1;32m--> 380\u001b[0m     array \u001b[38;5;241m=\u001b[39m \u001b[43mnumpy\u001b[49m\u001b[38;5;241;43m.\u001b[39;49m\u001b[43masarray\u001b[49m\u001b[43m(\u001b[49m\u001b[43marray\u001b[49m\u001b[43m,\u001b[49m\u001b[43m \u001b[49m\u001b[43morder\u001b[49m\u001b[38;5;241;43m=\u001b[39;49m\u001b[43morder\u001b[49m\u001b[43m,\u001b[49m\u001b[43m \u001b[49m\u001b[43mdtype\u001b[49m\u001b[38;5;241;43m=\u001b[39;49m\u001b[43mdtype\u001b[49m\u001b[43m)\u001b[49m\n\u001b[0;32m    382\u001b[0m \u001b[38;5;66;03m# At this point array is a NumPy ndarray. We convert it to an array\u001b[39;00m\n\u001b[0;32m    383\u001b[0m \u001b[38;5;66;03m# container that is consistent with the input's namespace.\u001b[39;00m\n\u001b[0;32m    384\u001b[0m \u001b[38;5;28;01mreturn\u001b[39;00m xp\u001b[38;5;241m.\u001b[39masarray(array)\n",
      "\u001b[1;31mValueError\u001b[0m: could not convert string to float: 'False'"
     ]
    }
   ],
   "source": [
    "clf = SVC(kernel='linear',C=10)\n",
    "clf.fit(X_train , y_train)\n",
    "y_pred = clf.predict(X_test)\n",
    "acc = accuracy_score(y_test, y_pred) * 100\n",
    "print(\"Accuracy =\", acc)\n",
    "confusion_matrix(y_test, y_pred)"
   ]
  },
  {
   "cell_type": "code",
   "execution_count": 8,
   "metadata": {
    "colab": {
     "base_uri": "https://localhost:8080/"
    },
    "executionInfo": {
     "elapsed": 485,
     "status": "ok",
     "timestamp": 1672634748734,
     "user": {
      "displayName": "ANANYA GHOSH",
      "userId": "07636421272032694955"
     },
     "user_tz": -330
    },
    "id": "HFM80kfpIkUQ",
    "outputId": "460b89d6-a441-47bc-918a-17d395a22bdd"
   },
   "outputs": [
    {
     "data": {
      "text/plain": [
       "array([0., 0., 1., 0., 0., 0., 0., 0., 0., 1., 1., 0., 0., 0., 0., 1., 1.,\n",
       "       0., 1., 0., 0., 1., 0., 0., 0., 1., 1., 1., 0., 0., 0., 0., 0., 1.,\n",
       "       0., 0., 0., 0., 0., 0., 0., 0., 1., 0., 1., 1., 0., 0., 0., 0., 0.,\n",
       "       0., 1., 1., 0., 1., 0., 1., 0., 1., 0., 1., 0., 0., 0., 0., 0., 1.,\n",
       "       0., 1., 1., 0., 0., 0., 0., 0., 0., 1., 0., 1., 1., 0., 0., 0., 1.,\n",
       "       0., 1., 0., 0., 1., 0., 0., 0., 1., 0., 0., 0., 1., 0., 0., 0., 1.,\n",
       "       0., 0., 0., 0., 0., 0., 0., 0., 0., 0., 1., 0., 0., 0., 0., 0., 1.,\n",
       "       0., 0., 1., 1., 1., 0., 1., 0., 1., 0., 1., 0., 0., 0., 1., 1., 1.,\n",
       "       1., 1., 0., 0., 0., 0., 1., 1., 0., 0., 0., 0., 0., 0., 0., 0., 0.,\n",
       "       1., 0., 0., 0., 0., 0., 0., 0., 1., 0., 0., 0., 1., 0., 1., 0., 0.,\n",
       "       0., 0., 1., 0., 0., 0., 0., 1., 0., 0., 0., 0., 0., 0., 1., 0., 0.,\n",
       "       0., 0., 0., 0., 1., 0., 0., 1., 0., 0., 1., 1., 1., 1., 0., 0., 0.,\n",
       "       0., 0., 1., 0., 0., 1., 1., 0., 0., 0., 0., 0., 0., 0., 0., 1., 1.,\n",
       "       0., 1., 1., 0., 0., 1., 0., 1., 0., 0.])"
      ]
     },
     "execution_count": 8,
     "metadata": {},
     "output_type": "execute_result"
    }
   ],
   "source": [
    "y_pred"
   ]
  },
  {
   "cell_type": "code",
   "execution_count": null,
   "metadata": {
    "id": "Rrr1faDc49Lv"
   },
   "outputs": [],
   "source": []
  }
 ],
 "metadata": {
  "colab": {
   "provenance": []
  },
  "kernelspec": {
   "display_name": "Python 3 (ipykernel)",
   "language": "python",
   "name": "python3"
  },
  "language_info": {
   "codemirror_mode": {
    "name": "ipython",
    "version": 3
   },
   "file_extension": ".py",
   "mimetype": "text/x-python",
   "name": "python",
   "nbconvert_exporter": "python",
   "pygments_lexer": "ipython3",
   "version": "3.9.15"
  }
 },
 "nbformat": 4,
 "nbformat_minor": 1
}
