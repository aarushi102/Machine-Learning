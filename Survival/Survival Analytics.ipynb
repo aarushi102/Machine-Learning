{
 "cells": [
  {
   "cell_type": "code",
   "execution_count": 1,
   "metadata": {
    "id": "FEDkpuqjagtT"
   },
   "outputs": [
    {
     "name": "stdout",
     "output_type": "stream",
     "text": [
      "Requirement already satisfied: lifelines in c:\\users\\acer\\anaconda3\\lib\\site-packages (0.27.8)\n",
      "Requirement already satisfied: pandas>=1.0.0 in c:\\users\\acer\\anaconda3\\lib\\site-packages (from lifelines) (1.4.4)\n",
      "Requirement already satisfied: formulaic>=0.2.2 in c:\\users\\acer\\anaconda3\\lib\\site-packages (from lifelines) (0.6.4)\n",
      "Requirement already satisfied: matplotlib>=3.0 in c:\\users\\acer\\anaconda3\\lib\\site-packages (from lifelines) (3.7.2)\n",
      "Requirement already satisfied: scipy>=1.2.0 in c:\\users\\acer\\anaconda3\\lib\\site-packages (from lifelines) (1.11.1)\n",
      "Requirement already satisfied: autograd>=1.5 in c:\\users\\acer\\anaconda3\\lib\\site-packages (from lifelines) (1.6.2)\n",
      "Requirement already satisfied: autograd-gamma>=0.3 in c:\\users\\acer\\anaconda3\\lib\\site-packages (from lifelines) (0.5.0)\n",
      "Requirement already satisfied: numpy<2.0,>=1.14.0 in c:\\users\\acer\\anaconda3\\lib\\site-packages (from lifelines) (1.23.5)\n",
      "Requirement already satisfied: future>=0.15.2 in c:\\users\\acer\\anaconda3\\lib\\site-packages (from autograd>=1.5->lifelines) (0.18.2)\n",
      "Requirement already satisfied: interface-meta>=1.2.0 in c:\\users\\acer\\anaconda3\\lib\\site-packages (from formulaic>=0.2.2->lifelines) (1.3.0)\n",
      "Requirement already satisfied: astor>=0.8 in c:\\users\\acer\\anaconda3\\lib\\site-packages (from formulaic>=0.2.2->lifelines) (0.8.1)\n",
      "Requirement already satisfied: wrapt>=1.0 in c:\\users\\acer\\anaconda3\\lib\\site-packages (from formulaic>=0.2.2->lifelines) (1.14.1)\n",
      "Requirement already satisfied: typing-extensions>=4.2.0 in c:\\users\\acer\\anaconda3\\lib\\site-packages (from formulaic>=0.2.2->lifelines) (4.3.0)\n",
      "Requirement already satisfied: cycler>=0.10 in c:\\users\\acer\\anaconda3\\lib\\site-packages (from matplotlib>=3.0->lifelines) (0.11.0)\n",
      "Requirement already satisfied: python-dateutil>=2.7 in c:\\users\\acer\\anaconda3\\lib\\site-packages (from matplotlib>=3.0->lifelines) (2.8.2)\n",
      "Requirement already satisfied: importlib-resources>=3.2.0 in c:\\users\\acer\\anaconda3\\lib\\site-packages (from matplotlib>=3.0->lifelines) (6.0.0)\n",
      "Requirement already satisfied: packaging>=20.0 in c:\\users\\acer\\anaconda3\\lib\\site-packages (from matplotlib>=3.0->lifelines) (21.3)\n",
      "Requirement already satisfied: contourpy>=1.0.1 in c:\\users\\acer\\anaconda3\\lib\\site-packages (from matplotlib>=3.0->lifelines) (1.1.0)\n",
      "Requirement already satisfied: pyparsing<3.1,>=2.3.1 in c:\\users\\acer\\anaconda3\\lib\\site-packages (from matplotlib>=3.0->lifelines) (3.0.9)\n",
      "Requirement already satisfied: kiwisolver>=1.0.1 in c:\\users\\acer\\anaconda3\\lib\\site-packages (from matplotlib>=3.0->lifelines) (1.4.2)\n",
      "Requirement already satisfied: pillow>=6.2.0 in c:\\users\\acer\\anaconda3\\lib\\site-packages (from matplotlib>=3.0->lifelines) (9.2.0)\n",
      "Requirement already satisfied: fonttools>=4.22.0 in c:\\users\\acer\\anaconda3\\lib\\site-packages (from matplotlib>=3.0->lifelines) (4.25.0)\n",
      "Requirement already satisfied: pytz>=2020.1 in c:\\users\\acer\\anaconda3\\lib\\site-packages (from pandas>=1.0.0->lifelines) (2022.1)\n",
      "Requirement already satisfied: zipp>=3.1.0 in c:\\users\\acer\\anaconda3\\lib\\site-packages (from importlib-resources>=3.2.0->matplotlib>=3.0->lifelines) (3.8.0)\n",
      "Requirement already satisfied: six>=1.5 in c:\\users\\acer\\anaconda3\\lib\\site-packages (from python-dateutil>=2.7->matplotlib>=3.0->lifelines) (1.16.0)\n"
     ]
    }
   ],
   "source": [
    "!pip install lifelines"
   ]
  },
  {
   "cell_type": "code",
   "execution_count": 2,
   "metadata": {
    "id": "mGw9p8PJagth"
   },
   "outputs": [
    {
     "ename": "ModuleNotFoundError",
     "evalue": "No module named 'lifelines'",
     "output_type": "error",
     "traceback": [
      "\u001b[1;31m---------------------------------------------------------------------------\u001b[0m",
      "\u001b[1;31mModuleNotFoundError\u001b[0m                       Traceback (most recent call last)",
      "Cell \u001b[1;32mIn[2], line 2\u001b[0m\n\u001b[0;32m      1\u001b[0m \u001b[38;5;28;01mimport\u001b[39;00m \u001b[38;5;21;01mpandas\u001b[39;00m \u001b[38;5;28;01mas\u001b[39;00m \u001b[38;5;21;01mpd\u001b[39;00m\n\u001b[1;32m----> 2\u001b[0m \u001b[38;5;28;01mfrom\u001b[39;00m \u001b[38;5;21;01mlifelines\u001b[39;00m \u001b[38;5;28;01mimport\u001b[39;00m KaplanMeierFitter\n",
      "\u001b[1;31mModuleNotFoundError\u001b[0m: No module named 'lifelines'"
     ]
    }
   ],
   "source": [
    "import pandas as pd\n",
    "from lifelines import KaplanMeierFitter"
   ]
  },
  {
   "cell_type": "code",
   "execution_count": 3,
   "metadata": {
    "id": "8QM_jqVfagti"
   },
   "outputs": [],
   "source": [
    "# Loading the the survival un-employment data\n",
    "survival_unemp = pd.read_csv(\"survival_unemployment.csv\")"
   ]
  },
  {
   "cell_type": "code",
   "execution_count": 4,
   "metadata": {
    "colab": {
     "base_uri": "https://localhost:8080/",
     "height": 206
    },
    "executionInfo": {
     "elapsed": 5,
     "status": "ok",
     "timestamp": 1665388934734,
     "user": {
      "displayName": "Salem Sameer Shaikh",
      "userId": "05291575250389740253"
     },
     "user_tz": -330
    },
    "id": "j8h7hMaHagti",
    "outputId": "617cd33a-a39d-4efc-bc8b-4fc0aec833d5"
   },
   "outputs": [
    {
     "data": {
      "text/html": [
       "<div>\n",
       "<style scoped>\n",
       "    .dataframe tbody tr th:only-of-type {\n",
       "        vertical-align: middle;\n",
       "    }\n",
       "\n",
       "    .dataframe tbody tr th {\n",
       "        vertical-align: top;\n",
       "    }\n",
       "\n",
       "    .dataframe thead th {\n",
       "        text-align: right;\n",
       "    }\n",
       "</style>\n",
       "<table border=\"1\" class=\"dataframe\">\n",
       "  <thead>\n",
       "    <tr style=\"text-align: right;\">\n",
       "      <th></th>\n",
       "      <th>spell</th>\n",
       "      <th>event</th>\n",
       "      <th>ui</th>\n",
       "      <th>logwage</th>\n",
       "      <th>age</th>\n",
       "    </tr>\n",
       "  </thead>\n",
       "  <tbody>\n",
       "    <tr>\n",
       "      <th>0</th>\n",
       "      <td>5</td>\n",
       "      <td>1</td>\n",
       "      <td>0</td>\n",
       "      <td>6.89568</td>\n",
       "      <td>41</td>\n",
       "    </tr>\n",
       "    <tr>\n",
       "      <th>1</th>\n",
       "      <td>13</td>\n",
       "      <td>1</td>\n",
       "      <td>1</td>\n",
       "      <td>5.28827</td>\n",
       "      <td>30</td>\n",
       "    </tr>\n",
       "    <tr>\n",
       "      <th>2</th>\n",
       "      <td>21</td>\n",
       "      <td>1</td>\n",
       "      <td>1</td>\n",
       "      <td>6.76734</td>\n",
       "      <td>36</td>\n",
       "    </tr>\n",
       "    <tr>\n",
       "      <th>3</th>\n",
       "      <td>3</td>\n",
       "      <td>1</td>\n",
       "      <td>1</td>\n",
       "      <td>5.97889</td>\n",
       "      <td>26</td>\n",
       "    </tr>\n",
       "    <tr>\n",
       "      <th>4</th>\n",
       "      <td>9</td>\n",
       "      <td>0</td>\n",
       "      <td>1</td>\n",
       "      <td>6.31536</td>\n",
       "      <td>22</td>\n",
       "    </tr>\n",
       "  </tbody>\n",
       "</table>\n",
       "</div>"
      ],
      "text/plain": [
       "   spell  event  ui  logwage  age\n",
       "0      5      1   0  6.89568   41\n",
       "1     13      1   1  5.28827   30\n",
       "2     21      1   1  6.76734   36\n",
       "3      3      1   1  5.97889   26\n",
       "4      9      0   1  6.31536   22"
      ]
     },
     "execution_count": 4,
     "metadata": {},
     "output_type": "execute_result"
    }
   ],
   "source": [
    "survival_unemp.head()\n"
   ]
  },
  {
   "cell_type": "code",
   "execution_count": 5,
   "metadata": {
    "colab": {
     "base_uri": "https://localhost:8080/"
    },
    "executionInfo": {
     "elapsed": 400,
     "status": "ok",
     "timestamp": 1669089572805,
     "user": {
      "displayName": "Priyanka Bindal",
      "userId": "05652010240057479599"
     },
     "user_tz": -330
    },
    "id": "QsFbHP7yG7A9",
    "outputId": "5cf61f87-9640-4a94-93b9-521dca51d8eb"
   },
   "outputs": [
    {
     "name": "stdout",
     "output_type": "stream",
     "text": [
      "<class 'pandas.core.frame.DataFrame'>\n",
      "RangeIndex: 3343 entries, 0 to 3342\n",
      "Data columns (total 5 columns):\n",
      " #   Column   Non-Null Count  Dtype  \n",
      "---  ------   --------------  -----  \n",
      " 0   spell    3343 non-null   int64  \n",
      " 1   event    3343 non-null   int64  \n",
      " 2   ui       3343 non-null   int64  \n",
      " 3   logwage  3343 non-null   float64\n",
      " 4   age      3343 non-null   int64  \n",
      "dtypes: float64(1), int64(4)\n",
      "memory usage: 130.7 KB\n"
     ]
    }
   ],
   "source": [
    "survival_unemp.info()"
   ]
  },
  {
   "cell_type": "code",
   "execution_count": 6,
   "metadata": {
    "id": "0nzbP1w4agtj"
   },
   "outputs": [
    {
     "data": {
      "text/plain": [
       "0        5\n",
       "1       13\n",
       "2       21\n",
       "3        3\n",
       "4        9\n",
       "        ..\n",
       "3338    11\n",
       "3339     4\n",
       "3340     5\n",
       "3341     1\n",
       "3342     8\n",
       "Name: spell, Length: 3343, dtype: int64"
      ]
     },
     "execution_count": 6,
     "metadata": {},
     "output_type": "execute_result"
    }
   ],
   "source": [
    "# Spell is referring to time \n",
    "T = survival_unemp.spell\n",
    "T\n"
   ]
  },
  {
   "cell_type": "code",
   "execution_count": 7,
   "metadata": {
    "id": "DqEcFlFMagtj"
   },
   "outputs": [
    {
     "ename": "NameError",
     "evalue": "name 'KaplanMeierFitter' is not defined",
     "output_type": "error",
     "traceback": [
      "\u001b[1;31m---------------------------------------------------------------------------\u001b[0m",
      "\u001b[1;31mNameError\u001b[0m                                 Traceback (most recent call last)",
      "Cell \u001b[1;32mIn[7], line 2\u001b[0m\n\u001b[0;32m      1\u001b[0m \u001b[38;5;66;03m# Initiating the KaplanMeierFitter model\u001b[39;00m\n\u001b[1;32m----> 2\u001b[0m kmf \u001b[38;5;241m=\u001b[39m \u001b[43mKaplanMeierFitter\u001b[49m()\n",
      "\u001b[1;31mNameError\u001b[0m: name 'KaplanMeierFitter' is not defined"
     ]
    }
   ],
   "source": [
    "# Initiating the KaplanMeierFitter model\n",
    "kmf = KaplanMeierFitter()"
   ]
  },
  {
   "cell_type": "code",
   "execution_count": null,
   "metadata": {
    "colab": {
     "base_uri": "https://localhost:8080/",
     "height": 226
    },
    "executionInfo": {
     "elapsed": 703,
     "status": "error",
     "timestamp": 1669089587875,
     "user": {
      "displayName": "Priyanka Bindal",
      "userId": "05652010240057479599"
     },
     "user_tz": -330
    },
    "id": "PzSX99Dgagtk",
    "outputId": "07f400ef-a3b5-48fe-d01e-951489eaf33e"
   },
   "outputs": [
    {
     "ename": "NameError",
     "evalue": "ignored",
     "output_type": "error",
     "traceback": [
      "\u001b[0;31m---------------------------------------------------------------------------\u001b[0m",
      "\u001b[0;31mNameError\u001b[0m                                 Traceback (most recent call last)",
      "\u001b[0;32m<ipython-input-6-f8e1e4acf799>\u001b[0m in \u001b[0;36m<module>\u001b[0;34m\u001b[0m\n\u001b[1;32m      1\u001b[0m \u001b[0;31m# Fitting KaplanMeierFitter model on Time and Events for death\u001b[0m\u001b[0;34m\u001b[0m\u001b[0;34m\u001b[0m\u001b[0;34m\u001b[0m\u001b[0m\n\u001b[0;32m----> 2\u001b[0;31m \u001b[0mkmf\u001b[0m\u001b[0;34m.\u001b[0m\u001b[0mfit\u001b[0m\u001b[0;34m(\u001b[0m\u001b[0mT\u001b[0m\u001b[0;34m,\u001b[0m\u001b[0mevent_observed\u001b[0m\u001b[0;34m=\u001b[0m\u001b[0msurvival_unemp\u001b[0m\u001b[0;34m.\u001b[0m\u001b[0mevent\u001b[0m\u001b[0;34m)\u001b[0m\u001b[0;34m\u001b[0m\u001b[0;34m\u001b[0m\u001b[0m\n\u001b[0m\u001b[1;32m      3\u001b[0m \u001b[0;31m# Time-line estimations plot\u001b[0m\u001b[0;34m\u001b[0m\u001b[0;34m\u001b[0m\u001b[0;34m\u001b[0m\u001b[0m\n\u001b[1;32m      4\u001b[0m \u001b[0mkmf\u001b[0m\u001b[0;34m.\u001b[0m\u001b[0mplot\u001b[0m\u001b[0;34m(\u001b[0m\u001b[0;34m)\u001b[0m\u001b[0;34m\u001b[0m\u001b[0;34m\u001b[0m\u001b[0m\n",
      "\u001b[0;31mNameError\u001b[0m: name 'T' is not defined"
     ]
    }
   ],
   "source": [
    "# Fitting KaplanMeierFitter model on Time and Events for death \n",
    "kmf.fit(T,event_observed=survival_unemp.event)\n",
    "# Time-line estimations plot \n",
    "kmf.plot()"
   ]
  },
  {
   "cell_type": "code",
   "execution_count": null,
   "metadata": {
    "id": "U85xDnA_agtk"
   },
   "outputs": [],
   "source": [
    "# Over Multiple groups \n",
    "# For each group, here group is ui\n",
    "survival_unemp.ui.value_counts()"
   ]
  },
  {
   "cell_type": "code",
   "execution_count": null,
   "metadata": {
    "id": "DudBhkPaagtl"
   },
   "outputs": [],
   "source": [
    "# Applying KaplanMeierFitter model on Time and Events for the group \"1\"\n",
    "kmf.fit(T[survival_unemp.ui==1], survival_unemp.event[survival_unemp.ui==1], label='1')\n",
    "ax = kmf.plot()\n",
    "\n",
    "# Applying KaplanMeierFitter model on Time and Events for the group \"0\"\n",
    "kmf.fit(T[survival_unemp.ui==0], survival_unemp.event[survival_unemp.ui==0], label='0')\n",
    "kmf.plot(ax=ax)\n"
   ]
  },
  {
   "cell_type": "code",
   "execution_count": null,
   "metadata": {
    "id": "04-Avi8Vagtl"
   },
   "outputs": [],
   "source": []
  }
 ],
 "metadata": {
  "colab": {
   "provenance": []
  },
  "kernelspec": {
   "display_name": "Python 3 (ipykernel)",
   "language": "python",
   "name": "python3"
  },
  "language_info": {
   "codemirror_mode": {
    "name": "ipython",
    "version": 3
   },
   "file_extension": ".py",
   "mimetype": "text/x-python",
   "name": "python",
   "nbconvert_exporter": "python",
   "pygments_lexer": "ipython3",
   "version": "3.9.15"
  }
 },
 "nbformat": 4,
 "nbformat_minor": 1
}
